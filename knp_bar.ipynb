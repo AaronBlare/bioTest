{
 "cells": [
  {
   "cell_type": "code",
   "execution_count": 5,
   "metadata": {
    "collapsed": true
   },
   "outputs": [],
   "source": [
    "import pandas as pd\n",
    "import plotly.graph_objects as go\n",
    "import plotly.express as px\n",
    "from layout import add_layout"
   ]
  },
  {
   "cell_type": "code",
   "execution_count": 6,
   "outputs": [],
   "source": [
    "disease = \"Parkinson\"\n",
    "dataset = \"GSE72774\"\n",
    "path = f\"E:/YandexDisk/pydnameth/draft/03_gigascience/initial_submission/Figure5/imputation\"\n",
    "\n",
    "df = pd.read_excel(f\"{path}/{disease}/{dataset}/bar_knp.xlsx\")\n",
    "df_sorted = df.sort_values([\"Accuracy\", \"Method\"], ascending=[False, False])"
   ],
   "metadata": {
    "collapsed": false
   }
  },
  {
   "cell_type": "code",
   "execution_count": 7,
   "outputs": [],
   "source": [
    "methods = df.loc[:, \"Method\"].values\n",
    "metrics = df.loc[:, \"Accuracy\"].values\n",
    "colors = px.colors.qualitative.Dark24[0:len(methods)]\n",
    "order = df_sorted.index.values[::-1]"
   ],
   "metadata": {
    "collapsed": false
   }
  },
  {
   "cell_type": "code",
   "execution_count": 8,
   "outputs": [],
   "source": [
    "fig = go.Figure()\n",
    "for index in order:\n",
    "    fig.add_trace(\n",
    "        go.Bar(\n",
    "            x=[metrics[index]],\n",
    "            y=[methods[index]],\n",
    "            name=methods[index],\n",
    "            text=metrics[index],\n",
    "            textfont=dict(size=20),\n",
    "            textposition='auto',\n",
    "            orientation='h',\n",
    "            showlegend=False,\n",
    "            marker=dict(\n",
    "                color=colors[index],\n",
    "                line=dict(color='black', width=2)\n",
    "            )\n",
    "        )\n",
    "    )\n",
    "add_layout(fig, f\"Accuracy\", f\"\", \"\")\n",
    "fig.update_yaxes(tickfont_size=20)\n",
    "fig.update_xaxes(showticklabels=True)\n",
    "fig.update_layout(legend={'itemsizing': 'constant'})\n",
    "fig.update_layout(margin=go.layout.Margin(l=280, r=20, b=80, t=25, pad=0))\n",
    "fig.write_image(f\"{path}/{disease}/{dataset}/bar_knp.png\")\n",
    "fig.write_image(f\"{path}/{disease}/{dataset}/bar_knp.pdf\", format=\"pdf\")"
   ],
   "metadata": {
    "collapsed": false
   }
  }
 ],
 "metadata": {
  "kernelspec": {
   "display_name": "Python 3",
   "language": "python",
   "name": "python3"
  },
  "language_info": {
   "codemirror_mode": {
    "name": "ipython",
    "version": 2
   },
   "file_extension": ".py",
   "mimetype": "text/x-python",
   "name": "python",
   "nbconvert_exporter": "python",
   "pygments_lexer": "ipython2",
   "version": "2.7.6"
  }
 },
 "nbformat": 4,
 "nbformat_minor": 0
}
