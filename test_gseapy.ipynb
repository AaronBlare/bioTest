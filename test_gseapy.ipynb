{
 "cells": [
  {
   "cell_type": "code",
   "execution_count": 51,
   "metadata": {
    "collapsed": true
   },
   "outputs": [],
   "source": [
    "import gseapy as gp\n",
    "go21 = gp.get_library(name='GO_Biological_Process_2021', organism='Human')\n",
    "go18 = gp.get_library(name='GO_Biological_Process_2018', organism='Human')\n",
    "go17 = gp.get_library(name='GO_Biological_Process_2017', organism='Human')\n",
    "go17b = gp.get_library(name='GO_Biological_Process_2017b', organism='Human')\n",
    "go15 = gp.get_library(name='GO_Biological_Process_2015', organism='Human')\n",
    "go13 = gp.get_library(name='GO_Biological_Process_2013', organism='Human')"
   ]
  },
  {
   "cell_type": "code",
   "execution_count": 108,
   "outputs": [],
   "source": [
    "go = gp.get_library(name='KEGG_2021_Human', organism='Human')"
   ],
   "metadata": {
    "collapsed": false
   }
  },
  {
   "cell_type": "code",
   "execution_count": 109,
   "outputs": [
    {
     "data": {
      "text/plain": "232"
     },
     "execution_count": 109,
     "metadata": {},
     "output_type": "execute_result"
    }
   ],
   "source": [
    "len(go['Thermogenesis'])"
   ],
   "metadata": {
    "collapsed": false
   }
  }
 ],
 "metadata": {
  "kernelspec": {
   "display_name": "Python 3",
   "language": "python",
   "name": "python3"
  },
  "language_info": {
   "codemirror_mode": {
    "name": "ipython",
    "version": 2
   },
   "file_extension": ".py",
   "mimetype": "text/x-python",
   "name": "python",
   "nbconvert_exporter": "python",
   "pygments_lexer": "ipython2",
   "version": "2.7.6"
  }
 },
 "nbformat": 4,
 "nbformat_minor": 0
}
