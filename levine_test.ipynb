{
 "cells": [
  {
   "cell_type": "code",
   "execution_count": 26,
   "metadata": {},
   "outputs": [],
   "source": [
    "import pandas as pd\n",
    "import numpy as np"
   ]
  },
  {
   "cell_type": "code",
   "execution_count": 36,
   "metadata": {},
   "outputs": [],
   "source": [
    "data_path = 'E:/YandexDisk/DNAm draft/unn_levine/'\n",
    "data_file = 'Долгожители (L) и Q.xlsx'\n",
    "\n",
    "df = pd.read_excel(f'{data_path}{data_file}', sheet_name='Испытуемые')"
   ]
  },
  {
   "cell_type": "code",
   "execution_count": 38,
   "metadata": {},
   "outputs": [
    {
     "name": "stderr",
     "output_type": "stream",
     "text": [
      "C:\\Users\\alena\\AppData\\Local\\Temp\\ipykernel_4008\\956121368.py:2: SettingWithCopyWarning: \n",
      "A value is trying to be set on a copy of a slice from a DataFrame\n",
      "\n",
      "See the caveats in the documentation: https://pandas.pydata.org/pandas-docs/stable/user_guide/indexing.html#returning-a-view-versus-a-copy\n",
      "  new_df.dropna(inplace=True)\n",
      "C:\\Users\\alena\\AppData\\Local\\Temp\\ipykernel_4008\\956121368.py:3: SettingWithCopyWarning: \n",
      "A value is trying to be set on a copy of a slice from a DataFrame.\n",
      "Try using .loc[row_indexer,col_indexer] = value instead\n",
      "\n",
      "See the caveats in the documentation: https://pandas.pydata.org/pandas-docs/stable/user_guide/indexing.html#returning-a-view-versus-a-copy\n",
      "  new_df['Age'] = (new_df['Дата забора'] - new_df['Год рождения']) / np.timedelta64(1, 'D') / 365.25\n",
      "C:\\Users\\alena\\AppData\\Local\\Temp\\ipykernel_4008\\956121368.py:4: SettingWithCopyWarning: \n",
      "A value is trying to be set on a copy of a slice from a DataFrame\n",
      "\n",
      "See the caveats in the documentation: https://pandas.pydata.org/pandas-docs/stable/user_guide/indexing.html#returning-a-view-versus-a-copy\n",
      "  new_df.drop(columns=['Дата забора', 'Год рождения'], inplace=True)\n"
     ]
    }
   ],
   "source": [
    "new_df = df[['Код', 'Год рождения', 'Дата забора', 'альбумин (g/L)', 'креатинин (umol/L)', 'глюкоза (mmol/L)', 'СРБ (мг/л)', 'LYM, %', 'MCV,fl', 'RDW-CV,%', 'ЩФ (U/L)', 'WBC, 10^9л']]\n",
    "new_df.dropna(inplace=True)\n",
    "new_df['Age'] = (new_df['Дата забора'] - new_df['Год рождения']) / np.timedelta64(1, 'D') / 365.25\n",
    "new_df.drop(columns=['Дата забора', 'Год рождения'], inplace=True)\n",
    "new_df = new_df.rename(columns={'Код': 'ID', 'age': 'Age',\n",
    "                                'альбумин (g/L)': 'Albumin', 'креатинин (umol/L)': 'Creatinine', \n",
    "                                'глюкоза (mmol/L)': 'Glucose', 'СРБ (мг/л)': 'C_reactive_protein', \n",
    "                                'LYM, %': 'Lymphocyte_percent', 'MCV,fl': 'Mean_cell_volume', \n",
    "                                'RDW-CV,%': 'Red_cell_distribution_width', 'ЩФ (U/L)': 'Alkaline_phosphatase', \n",
    "                                'WBC, 10^9л': 'White_blood_cell_count'})\n"
   ]
  },
  {
   "cell_type": "code",
   "execution_count": 39,
   "metadata": {},
   "outputs": [
    {
     "name": "stderr",
     "output_type": "stream",
     "text": [
      "C:\\Users\\alena\\AppData\\Local\\Temp\\ipykernel_4008\\1652312954.py:5: RuntimeWarning: divide by zero encountered in log10\n",
      "  data_dict['C_reactive_protein'] = np.log10(list(new_df.C_reactive_protein * 10))\n",
      "C:\\Users\\alena\\AppData\\Local\\Temp\\ipykernel_4008\\1652312954.py:44: RuntimeWarning: divide by zero encountered in log\n",
      "  phenotypic_age[sub_id] = 141.50225 + np.log(-0.00553 * np.log(1 - mortality_score[sub_id])) / 0.090165\n"
     ]
    }
   ],
   "source": [
    "data_dict = {}\n",
    "data_dict['Albumin'] = list(new_df.Albumin)\n",
    "data_dict['Creatinine'] = list(new_df.Creatinine)\n",
    "data_dict['Glucose'] = list(new_df.Glucose)\n",
    "data_dict['C_reactive_protein'] = np.log10(list(new_df.C_reactive_protein * 10))\n",
    "data_dict['Lymphocyte_percent'] = list(new_df.Lymphocyte_percent)\n",
    "data_dict['Mean_cell_volume'] = list(new_df.Mean_cell_volume)\n",
    "data_dict['Red_cell_distribution_width'] = list(new_df.Red_cell_distribution_width)\n",
    "data_dict['Alkaline_phosphatase'] = list(new_df.Alkaline_phosphatase)\n",
    "data_dict['White_blood_cell_count'] = list(new_df.White_blood_cell_count)\n",
    "data_dict['Age'] = list(new_df.Age)\n",
    "\n",
    "coeff_dict = {}\n",
    "coeff_dict['Albumin'] = -0.0336\n",
    "coeff_dict['Creatinine'] = 0.0095\n",
    "coeff_dict['Glucose'] = 0.1953\n",
    "coeff_dict['C_reactive_protein'] = 0.0954\n",
    "coeff_dict['Lymphocyte_percent'] = -0.0120\n",
    "coeff_dict['Mean_cell_volume'] = 0.0268\n",
    "coeff_dict['Red_cell_distribution_width'] = 0.3306\n",
    "coeff_dict['Alkaline_phosphatase'] = 0.0019\n",
    "coeff_dict['White_blood_cell_count'] = 0.0554\n",
    "coeff_dict['Age'] = 0.0804\n",
    "const = -19.9067\n",
    "gamma = 0.0077\n",
    "\n",
    "linear_combinations = np.zeros(len(data_dict['Age']))\n",
    "mortality_score = np.zeros(len(data_dict['Age']))\n",
    "mortality_score_1_year = np.zeros(len(data_dict['Age']))\n",
    "mortality_score_2_year = np.zeros(len(data_dict['Age']))\n",
    "phenotypic_age = np.zeros(len(data_dict['Age']))\n",
    "\n",
    "for sub_id in range(0, len(data_dict['Age'])):\n",
    "\n",
    "    for key in coeff_dict:\n",
    "        linear_combinations[sub_id] += coeff_dict[key] * data_dict[key][sub_id]\n",
    "    linear_combinations[sub_id] += const\n",
    "\n",
    "    mortality_score[sub_id] = 1 - np.exp(-np.exp(linear_combinations[sub_id]) * (np.exp(120 * gamma) - 1) / gamma)\n",
    "\n",
    "    mortality_score_1_year[sub_id] = 1 - np.exp(-np.exp(linear_combinations[sub_id]) * (np.exp(12 * gamma) - 1) / gamma)\n",
    "    mortality_score_2_year[sub_id] = 1 - np.exp(-np.exp(linear_combinations[sub_id]) * (np.exp(24 * gamma) - 1) / gamma)\n",
    "\n",
    "    phenotypic_age[sub_id] = 141.50225 + np.log(-0.00553 * np.log(1 - mortality_score[sub_id])) / 0.090165\n"
   ]
  },
  {
   "cell_type": "code",
   "execution_count": 41,
   "metadata": {},
   "outputs": [],
   "source": [
    "new_df['PhenoAge'] = phenotypic_age\n",
    "new_df.to_excel(f'{data_path}unn_levine_hui.xlsx')"
   ]
  }
 ],
 "metadata": {
  "kernelspec": {
   "display_name": "gradiopy",
   "language": "python",
   "name": "python3"
  },
  "language_info": {
   "codemirror_mode": {
    "name": "ipython",
    "version": 3
   },
   "file_extension": ".py",
   "mimetype": "text/x-python",
   "name": "python",
   "nbconvert_exporter": "python",
   "pygments_lexer": "ipython3",
   "version": "3.10.14"
  }
 },
 "nbformat": 4,
 "nbformat_minor": 2
}
