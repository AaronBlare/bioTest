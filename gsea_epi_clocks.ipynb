{
 "cells": [
  {
   "cell_type": "code",
   "execution_count": null,
   "id": "initial_id",
   "metadata": {
    "collapsed": true
   },
   "outputs": [],
   "source": [
    "import pandas as pd\n",
    "import pathlib\n",
    "import gseapy as gp\n",
    "import numpy as np\n",
    "import seaborn as sns\n",
    "import plotly.express as px\n",
    "import matplotlib.pyplot as plt"
   ]
  },
  {
   "cell_type": "code",
   "outputs": [],
   "source": [
    "manifest_path = \"E:/YandexDisk/pydnameth/datasets/GPL13534/manifest\"\n",
    "manifest_pkl = f\"{manifest_path}/manifest.pkl\"\n",
    "manifest = pd.read_pickle(manifest_pkl)\n",
    "manifest['CHR'] = manifest['CHR'].str[3::]"
   ],
   "metadata": {
    "collapsed": false
   },
   "id": "77b8ce47a6c71c4e",
   "execution_count": null
  },
  {
   "cell_type": "code",
   "outputs": [],
   "source": [
    "gsea_libs_all = pd.Series(gp.get_library_name(\"Human\"))\n",
    "gsea_libs_trgt = gsea_libs_all[gsea_libs_all.str.contains(r'^GO_.*$', regex=True)].values\n",
    "gsea_cols = [\"Gene_set\", \"Term\", \"Overlap\", \"P-value\", \"Adjusted P-value\", \"Odds Ratio\", \"Combined Score\"]"
   ],
   "metadata": {
    "collapsed": false
   },
   "id": "1641c21bdb9704e9",
   "execution_count": null
  },
  {
   "cell_type": "code",
   "outputs": [],
   "source": [
    "path_cpg = \"E:/YandexDisk/DNAm draft/epi_clocks/\"\n",
    "clocks_cpgs = {'Hannum': [], 'Horvath': [], 'SkinBlood': [], 'PhenoAge': [], 'DunedinPACE': []}\n",
    "for key in clocks_cpgs:\n",
    "    pathlib.Path(f\"{path_cpg}/{key}\").mkdir(parents=True, exist_ok=True)\n",
    "    cpg_xlsx = f\"{path_cpg}/{key}_cpgs.xlsx\"\n",
    "    cpgs = pd.read_excel(cpg_xlsx)\n",
    "    cpg_list = list(cpgs['cpgs'])\n",
    "    genes_selected = set()\n",
    "    for cpg in cpg_list:\n",
    "        genes_raw = manifest.at[cpg, 'Gene']\n",
    "        if isinstance(genes_raw, str):\n",
    "            genes = genes_raw.split(';')\n",
    "            genes_selected.update(set(genes))\n",
    "    if 'non-genic' in genes_selected:\n",
    "        genes_selected.remove('non-genic')\n",
    "    if ' ' in genes_selected:\n",
    "        genes_selected.remove(' ')\n",
    "    genes_selected = list(genes_selected)\n",
    "    genes_df = pd.DataFrame({'gene':genes_selected})\n",
    "    genes_df.to_excel(f\"{path_cpg}/{key}/genes.xlsx\", index=False)\n",
    "    \n",
    "    pathlib.Path(f\"{path_cpg}/{key}/GSEA\").mkdir(parents=True, exist_ok=True)\n",
    "    libraries = gp.get_library_name(\"Human\")\n",
    "    df_libraries = pd.DataFrame(index=libraries)\n",
    "    df_libraries.to_excel(f\"{path_cpg}/{key}/GSEA/libraries.xlsx\", index=True)\n",
    "    \n",
    "    dfs_enrichr = []\n",
    "    for gsea_lib in gsea_libs_trgt:\n",
    "        pathlib.Path(f\"{path_cpg}/{key}/{gsea_lib}\").mkdir(parents=True, exist_ok=True)\n",
    "        df_enrichr = gp.enrichr(\n",
    "            gene_list=genes_selected,\n",
    "            gene_sets=gsea_lib,\n",
    "            organism='Human',\n",
    "            outdir=f\"{path_cpg}/{key}/{gsea_lib}\",\n",
    "            cutoff=1.00,\n",
    "            verbose=True,\n",
    "            no_plot=True\n",
    "        )\n",
    "        dfs_enrichr.append(df_enrichr.results)\n",
    "    dfs_enrichr = pd.concat(dfs_enrichr)\n",
    "    dfs_enrichr.to_excel(f\"{path_cpg}/{key}/GSEA/results.xlsx\", index=True)\n",
    "    dfs_enrichr.to_pickle(f\"{path_cpg}/{key}/GSEA/results.pkl\")\n",
    "        \n",
    "    dfs_enrichr = dfs_enrichr.loc[dfs_enrichr[\"Adjusted P-value\"] < 0.05, gsea_cols]\n",
    "    dfs_enrichr.sort_values([\"Adjusted P-value\"], ascending=[True], inplace=True)\n",
    "    dfs_enrichr = dfs_enrichr.head(n=50)\n",
    "    dfs_enrichr.index = range(len(dfs_enrichr))\n",
    "    \n",
    "    if not dfs_enrichr.empty:\n",
    "        dfs_enrichr[r'$ -\\log_{10}(\\mathrm{p-value})$'] = -np.log10(dfs_enrichr.loc[:, 'Adjusted P-value'].values)\n",
    "        dfs_enrichr.rename(columns={'Gene_set': 'Gene Library'}, inplace=True)\n",
    "        plt.figure(figsize=(10, 0.5 * dfs_enrichr.shape[0]))\n",
    "        sns.set_theme(style='whitegrid', font_scale=2)\n",
    "        bar = sns.barplot(\n",
    "            data=dfs_enrichr,\n",
    "            hue=\"Gene Library\",\n",
    "            y=dfs_enrichr.index,\n",
    "            x=r'$ -\\log_{10}(\\mathrm{p-value})$',\n",
    "            palette=list(px.colors.qualitative.Alphabet) + list(px.colors.qualitative.Dark24) + list(\n",
    "                px.colors.qualitative.Light24),\n",
    "            edgecolor='black',\n",
    "            orient=\"h\",\n",
    "            dodge=False\n",
    "        )\n",
    "        bar.set_yticklabels(dfs_enrichr[\"Term\"])\n",
    "        sns.move_legend(bar, \"upper left\", bbox_to_anchor=(1, 1))\n",
    "        plt.savefig(f\"{path_cpg}/{key}/terms.png\", bbox_inches='tight')\n",
    "        plt.savefig(f\"{path_cpg}/{key}/terms.pdf\", bbox_inches='tight')\n",
    "        plt.close()"
   ],
   "metadata": {
    "collapsed": false
   },
   "id": "b88ab8f4a7325277",
   "execution_count": null
  }
 ],
 "metadata": {
  "kernelspec": {
   "display_name": "Python 3",
   "language": "python",
   "name": "python3"
  },
  "language_info": {
   "codemirror_mode": {
    "name": "ipython",
    "version": 2
   },
   "file_extension": ".py",
   "mimetype": "text/x-python",
   "name": "python",
   "nbconvert_exporter": "python",
   "pygments_lexer": "ipython2",
   "version": "2.7.6"
  }
 },
 "nbformat": 4,
 "nbformat_minor": 5
}
