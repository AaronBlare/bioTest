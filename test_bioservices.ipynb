{
 "cells": [
  {
   "cell_type": "code",
   "execution_count": 1,
   "metadata": {
    "collapsed": true
   },
   "outputs": [
    {
     "name": "stdout",
     "output_type": "stream",
     "text": [
      "Creating directory C:\\Users\\alena\\AppData\\Local\\bioservices\\bioservices \n",
      "Creating directory C:\\Users\\alena\\AppData\\Local\\bioservices\\bioservices\\Cache \n",
      "Welcome to Bioservices\n",
      "======================\n",
      "It looks like you do not have a configuration file.\n",
      "We are creating one with default values in C:\\Users\\alena\\AppData\\Local\\bioservices\\bioservices\\bioservices.cfg .\n",
      "Done\n"
     ]
    }
   ],
   "source": [
    "from bioservices import QuickGO\n",
    "go = QuickGO()\n",
    "res = go.get_go_terms(\"GO:0003824\")"
   ]
  },
  {
   "cell_type": "code",
   "execution_count": 6,
   "outputs": [
    {
     "name": "stdout",
     "output_type": "stream",
     "text": [
      "As of 23d Oct 2017, the QuickGO API limits the number of pages to 25\n",
      "fetching page 1 / 25 \n",
      "fetching page 2 / 25 \n",
      "fetching page 3 / 25 \n",
      "fetching page 4 / 25 \n",
      "fetching page 5 / 25 \n",
      "fetching page 6 / 25 \n",
      "fetching page 7 / 25 \n",
      "fetching page 8 / 25 \n",
      "fetching page 9 / 25 \n",
      "fetching page 10 / 25 \n",
      "fetching page 11 / 25 \n",
      "fetching page 12 / 25 \n",
      "fetching page 13 / 25 \n",
      "fetching page 14 / 25 \n",
      "fetching page 15 / 25 \n",
      "fetching page 16 / 25 \n",
      "fetching page 17 / 25 \n",
      "fetching page 18 / 25 \n",
      "fetching page 19 / 25 \n",
      "fetching page 20 / 25 \n",
      "fetching page 21 / 25 \n",
      "fetching page 22 / 25 \n",
      "fetching page 23 / 25 \n",
      "fetching page 24 / 25 \n",
      "fetching page 25 / 25 \n"
     ]
    }
   ],
   "source": [
    "out = go.Annotation_from_goid('GO:0003824')"
   ],
   "metadata": {
    "collapsed": false
   }
  }
 ],
 "metadata": {
  "kernelspec": {
   "display_name": "Python 3",
   "language": "python",
   "name": "python3"
  },
  "language_info": {
   "codemirror_mode": {
    "name": "ipython",
    "version": 2
   },
   "file_extension": ".py",
   "mimetype": "text/x-python",
   "name": "python",
   "nbconvert_exporter": "python",
   "pygments_lexer": "ipython2",
   "version": "2.7.6"
  }
 },
 "nbformat": 4,
 "nbformat_minor": 0
}
