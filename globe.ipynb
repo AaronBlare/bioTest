{
 "cells": [
  {
   "cell_type": "code",
   "execution_count": 2,
   "id": "initial_id",
   "metadata": {
    "collapsed": true,
    "ExecuteTime": {
     "end_time": "2023-09-18T13:17:12.026926400Z",
     "start_time": "2023-09-18T13:17:11.411762700Z"
    }
   },
   "outputs": [],
   "source": [
    "from mpl_toolkits.basemap import Basemap\n",
    "import matplotlib.pyplot as plt\n",
    "import numpy as np"
   ]
  },
  {
   "cell_type": "code",
   "execution_count": 6,
   "outputs": [],
   "source": [
    "fig = plt.figure(figsize=(9,6))\n",
    "\n",
    "path_save = 'E:/YandexDisk/DNAm draft/yakutia/map/'\n",
    "\n",
    "# set perspective angle\n",
    "lat_viewing_angle = 45\n",
    "lon_viewing_angle = 80\n",
    "\n",
    "# define color maps for water and land\n",
    "ocean_map = (plt.get_cmap('ocean'))(210)\n",
    "cmap = plt.get_cmap('gist_earth')\n",
    "\n",
    "# call the basemap and use orthographic projection at viewing angle\n",
    "m = Basemap(projection='ortho', \n",
    "          lat_0=lat_viewing_angle, lon_0=lon_viewing_angle)    \n",
    "\n",
    "# coastlines, map boundary, fill continents/water, fill ocean, draw countries\n",
    "m.drawcoastlines()\n",
    "m.drawmapboundary(fill_color=ocean_map)\n",
    "m.fillcontinents(color=cmap(200),lake_color=ocean_map)\n",
    "\n",
    "# latitude/longitude line vectors\n",
    "lat_line_range = [-90,90]\n",
    "lat_lines = 18\n",
    "lat_line_count = (lat_line_range[1]-lat_line_range[0])/lat_lines\n",
    "\n",
    "merid_range = [-180,180]\n",
    "merid_lines = 18\n",
    "merid_count = (merid_range[1]-merid_range[0])/merid_lines\n",
    "\n",
    "m.drawparallels(np.arange(lat_line_range[0],lat_line_range[1],lat_line_count))\n",
    "m.drawmeridians(np.arange(merid_range[0],merid_range[1],merid_count))\n",
    "\n",
    "plt.savefig(f\"{path_save}/map.png\", bbox_inches='tight', dpi=400, transparent=True)\n",
    "plt.savefig(f\"{path_save}/map.pdf\", bbox_inches='tight', transparent=True)\n",
    "plt.close()"
   ],
   "metadata": {
    "collapsed": false,
    "ExecuteTime": {
     "end_time": "2023-09-18T13:23:29.346374300Z",
     "start_time": "2023-09-18T13:23:25.595352300Z"
    }
   },
   "id": "c413d5c5c3fcfdc"
  }
 ],
 "metadata": {
  "kernelspec": {
   "display_name": "Python 3",
   "language": "python",
   "name": "python3"
  },
  "language_info": {
   "codemirror_mode": {
    "name": "ipython",
    "version": 2
   },
   "file_extension": ".py",
   "mimetype": "text/x-python",
   "name": "python",
   "nbconvert_exporter": "python",
   "pygments_lexer": "ipython2",
   "version": "2.7.6"
  }
 },
 "nbformat": 4,
 "nbformat_minor": 5
}
