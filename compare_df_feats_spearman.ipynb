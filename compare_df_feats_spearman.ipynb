{
 "cells": [
  {
   "cell_type": "code",
   "execution_count": 1,
   "id": "initial_id",
   "metadata": {
    "collapsed": true,
    "ExecuteTime": {
     "end_time": "2024-03-17T22:33:59.949672200Z",
     "start_time": "2024-03-17T22:33:59.536079300Z"
    }
   },
   "outputs": [],
   "source": [
    "import pandas as pd"
   ]
  },
  {
   "cell_type": "code",
   "outputs": [],
   "source": [
    "path_1 = 'E:/YandexDisk/pydnameth/datasets/GPL21145/GSEUNN/special/060_EpiSImAge/'\n",
    "data_file_1 = 'df_feats_spearman.xlsx'\n",
    "df_1 = pd.read_excel(f\"{path_1}/{data_file_1}\")"
   ],
   "metadata": {
    "collapsed": false,
    "ExecuteTime": {
     "end_time": "2024-03-17T22:40:52.394295900Z",
     "start_time": "2024-03-17T22:34:23.864441600Z"
    }
   },
   "id": "ef5eaa43540ed19d",
   "execution_count": 2
  },
  {
   "cell_type": "code",
   "outputs": [],
   "source": [
    "path_2 = 'E:/YandexDisk/pydnameth/datasets/GPL21145/GSEUNN/special/060_EpiSImAge/fimmu_features/harm/'\n",
    "data_file_2 = 'df_feats_spearman.xlsx'\n",
    "df_2 = pd.read_excel(f\"{path_2}/{data_file_2}\")"
   ],
   "metadata": {
    "collapsed": false,
    "ExecuteTime": {
     "end_time": "2024-03-17T22:47:35.855432700Z",
     "start_time": "2024-03-17T22:40:56.868563300Z"
    }
   },
   "id": "9ff2bffd3fb71329",
   "execution_count": 3
  },
  {
   "cell_type": "code",
   "outputs": [],
   "source": [
    "# test short datasets\n",
    "'''\n",
    "path_1 = 'E:/YandexDisk/DNAm draft/map_yakutia/test/'\n",
    "data_file_1 = 'df_feats_spearman_1.xlsx'\n",
    "df_1 = pd.read_excel(f\"{path_1}/{data_file_1}\")\n",
    "path_2 = 'E:/YandexDisk/DNAm draft/map_yakutia/test/'\n",
    "data_file_2 = 'df_feats_spearman_2.xlsx'\n",
    "df_2 = pd.read_excel(f\"{path_2}/{data_file_2}\")\n",
    "'''"
   ],
   "metadata": {
    "collapsed": false
   },
   "id": "79c0e85f33b54243",
   "execution_count": null
  },
  {
   "cell_type": "code",
   "outputs": [],
   "source": [
    "df_1.rename(columns={\"Unnamed: 0\": \"cpg\"}, inplace=True)\n",
    "df_2.rename(columns={\"Unnamed: 0\": \"cpg\"}, inplace=True)"
   ],
   "metadata": {
    "collapsed": false,
    "ExecuteTime": {
     "end_time": "2024-03-17T22:47:46.281122700Z",
     "start_time": "2024-03-17T22:47:46.265606Z"
    }
   },
   "id": "b87d044ad5d321a8",
   "execution_count": 4
  },
  {
   "cell_type": "code",
   "outputs": [],
   "source": [
    "all_columnns = df_1.columns.tolist()\n",
    "all_cytokines = []\n",
    "for column in all_columnns:\n",
    "    if column in ['cpg', 'Gene']:\n",
    "        continue\n",
    "    else:\n",
    "        all_cytokines.append(column.split('_')[0])\n",
    "all_cytokines = list(set(all_cytokines))\n",
    "target_columns = ['cpg'] + [f'{cyto}_pval' for cyto in all_cytokines]"
   ],
   "metadata": {
    "collapsed": false,
    "ExecuteTime": {
     "end_time": "2024-03-17T22:47:49.522319400Z",
     "start_time": "2024-03-17T22:47:49.504322Z"
    }
   },
   "id": "1b8a57aa9fe3a30e",
   "execution_count": 5
  },
  {
   "cell_type": "code",
   "outputs": [],
   "source": [
    "df = pd.merge(df_1[target_columns], df_2[target_columns], on='cpg', suffixes=('_1', '_2'))"
   ],
   "metadata": {
    "collapsed": false,
    "ExecuteTime": {
     "end_time": "2024-03-17T22:47:53.416534800Z",
     "start_time": "2024-03-17T22:47:52.816137800Z"
    }
   },
   "id": "b581798880cafc43",
   "execution_count": 6
  },
  {
   "cell_type": "code",
   "outputs": [
    {
     "name": "stdout",
     "output_type": "stream",
     "text": [
      "CXCL10: 0.0\n",
      "CCL22: 0.0\n",
      "IL15: 0.0\n",
      "TGFA: 0.0\n",
      "GCSF: 0.0\n",
      "IL5: 0.0\n",
      "CSF1: 0.0\n",
      "IL18: 0.0\n",
      "CCL4: 0.0\n",
      "CCL7: 0.0\n",
      "CD40LG: 0.0\n",
      "VEGFA: 0.0\n",
      "CXCL9: 0.0\n",
      "PDGFB: 0.0\n",
      "FLT3L: 0.0\n",
      "IL1RA: 0.0\n",
      "IL13: 0.0\n",
      "IL8: 0.0\n",
      "CCL2: 0.0\n",
      "IL25: 0.0\n",
      "IL1B: 0.0\n",
      "TNF: 0.0\n",
      "PDGFA: 0.0\n",
      "CCL11: 0.0\n",
      "CX3CL1: 0.0\n",
      "CCL3: 0.0\n",
      "IL12Bp40: 0.0\n",
      "IL6: 0.0\n",
      "IL4: 0.0\n",
      "IFNA2: 0.0\n",
      "IL27: 0.0\n",
      "CXCL1: 0.0\n"
     ]
    }
   ],
   "source": [
    "for cytokine in all_cytokines:\n",
    "    df_col = f'{cytokine}_pval_diff'\n",
    "    df_1_col = f'{cytokine}_pval_1'\n",
    "    df_2_col = f'{cytokine}_pval_2'\n",
    "    df[df_col] = df[df_1_col] - df[df_2_col]\n",
    "    print(f'{cytokine}: {sum(df[df_col])}')"
   ],
   "metadata": {
    "collapsed": false,
    "ExecuteTime": {
     "end_time": "2024-03-17T22:47:58.004957600Z",
     "start_time": "2024-03-17T22:47:57.330496900Z"
    }
   },
   "id": "1a019310cecade5c",
   "execution_count": 7
  }
 ],
 "metadata": {
  "kernelspec": {
   "display_name": "Python 3",
   "language": "python",
   "name": "python3"
  },
  "language_info": {
   "codemirror_mode": {
    "name": "ipython",
    "version": 2
   },
   "file_extension": ".py",
   "mimetype": "text/x-python",
   "name": "python",
   "nbconvert_exporter": "python",
   "pygments_lexer": "ipython2",
   "version": "2.7.6"
  }
 },
 "nbformat": 4,
 "nbformat_minor": 5
}
