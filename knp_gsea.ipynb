{
 "cells": [
  {
   "cell_type": "code",
   "execution_count": null,
   "metadata": {
    "collapsed": true
   },
   "outputs": [],
   "source": [
    "import pandas as pd\n",
    "import mygene\n",
    "import pathlib\n",
    "import gseapy as gp\n",
    "import numpy as np\n",
    "import seaborn as sns\n",
    "import plotly.express as px\n",
    "import matplotlib.pyplot as plt\n",
    "import upsetplot as upset\n",
    "from scipy import stats\n",
    "from statsmodels.stats.multitest import multipletests"
   ]
  },
  {
   "cell_type": "code",
   "execution_count": null,
   "outputs": [],
   "source": [
    "manifest_path = \"E:/YandexDisk/pydnameth/datasets/GPL13534/manifest\"\n",
    "manifest_pkl = f\"{manifest_path}/manifest.pkl\"\n",
    "manifest = pd.read_pickle(manifest_pkl)\n",
    "manifest['CHR'] = manifest['CHR'].str[3::]"
   ],
   "metadata": {
    "collapsed": false
   }
  },
  {
   "cell_type": "code",
   "execution_count": null,
   "outputs": [],
   "source": [
    "path_cpg = \"E:/YandexDisk/XAI/report2022/bio/\"\n",
    "cpg_1000_xlsx = f\"{path_cpg}/1000.xlsx\"\n",
    "cpg_1000 = pd.read_excel(cpg_1000_xlsx)\n",
    "cpg_1000_list = list(cpg_1000['features'])\n",
    "genes_selected = set()\n",
    "for cpg in cpg_1000_list:\n",
    "    genes_raw = manifest.at[cpg, 'Gene']\n",
    "    if isinstance(genes_raw, str):\n",
    "        genes = genes_raw.split(';')\n",
    "        genes_selected.update(set(genes))\n",
    "if 'non-genic' in genes_selected:\n",
    "    genes_selected.remove('non-genic')\n",
    "if ' ' in genes_selected:\n",
    "    genes_selected.remove(' ')\n",
    "genes_selected = list(genes_selected)\n",
    "genes_df = pd.DataFrame({'gene':genes_selected})\n",
    "genes_df.to_excel(f\"{path_cpg}/genes.xlsx\", index=False)"
   ],
   "metadata": {
    "collapsed": false
   }
  },
  {
   "cell_type": "code",
   "execution_count": null,
   "outputs": [],
   "source": [
    "mg = mygene.MyGeneInfo()\n",
    "print(f\"genes_selected: {len(genes_selected)}\")\n",
    "df_queries_all = []\n",
    "genes_missed = []\n",
    "number_of_synonyms = 0\n",
    "for gene in genes_selected:\n",
    "    df_query = mg.query(gene, scopes='entrezgene', species='human', as_dataframe=True)\n",
    "    if df_query.empty:\n",
    "        genes_missed.append(gene)\n",
    "    else:\n",
    "        df_queries_all.append(df_query)\n",
    "        if gene not in set(df_query.loc[:, \"symbol\"].values):\n",
    "            number_of_synonyms += 1\n",
    "            print(f\"{gene} not in {list(df_query.loc[:, 'symbol'].values)}\")\n",
    "print(f\"Total number of synonyms: {number_of_synonyms}\")\n",
    "\n",
    "my_gene_all = pd.concat(df_queries_all)\n",
    "my_gene_all.to_excel(f\"{path_cpg}/my_gene_all.xlsx\", index=True)\n",
    "\n",
    "genes_missed_df = pd.DataFrame({'gene': genes_missed})\n",
    "genes_missed_df.to_excel(f\"{path_cpg}/genes_mygene_missed.xlsx\", index=False)\n",
    "\n",
    "genes_selected_all = list(set(my_gene_all.loc[:, \"symbol\"].values))\n",
    "genes_selected_all_df = pd.DataFrame({'gene': genes_selected_all})\n",
    "genes_selected_all_df.to_excel(f\"{path_cpg}/genes_mygene_all.xlsx\", index=False)"
   ],
   "metadata": {
    "collapsed": false
   }
  },
  {
   "cell_type": "code",
   "execution_count": null,
   "outputs": [],
   "source": [
    "pathlib.Path(f\"{path_cpg}/GSEA\").mkdir(parents=True, exist_ok=True)\n",
    "libraries = gp.get_library_name(\"Human\")\n",
    "df_libraries = pd.DataFrame(index=libraries)\n",
    "df_libraries.to_excel(f\"{path_cpg}/GSEA/libraries.xlsx\", index=True)\n",
    "\n",
    "genes_dict_of_lists = {\n",
    "    \"origin\": genes_selected,\n",
    "    \"mygene_all\": genes_selected_all\n",
    "}\n",
    "\n",
    "for genes in genes_dict_of_lists:\n",
    "    dfs_enrichr = []\n",
    "    for genes_list in libraries:\n",
    "        pathlib.Path(f\"{path_cpg}/GSEA/{genes}/{genes_list}\").mkdir(parents=True, exist_ok=True)\n",
    "        df_enrichr = gp.enrichr(\n",
    "            gene_list=genes_dict_of_lists[genes],\n",
    "            gene_sets=genes_list,\n",
    "            organism='Human',\n",
    "            outdir=f\"{path_cpg}/GSEA/{genes}/{genes_list}\",\n",
    "            cutoff=1.00,\n",
    "            verbose=True,\n",
    "            no_plot=True\n",
    "        )\n",
    "        dfs_enrichr.append(df_enrichr.results)\n",
    "    dfs_enrichr = pd.concat(dfs_enrichr)\n",
    "    dfs_enrichr.to_excel(f\"{path_cpg}/GSEA/{genes}/results.xlsx\", index=True)\n",
    "    dfs_enrichr.to_pickle(f\"{path_cpg}/GSEA/{genes}/results.pkl\")"
   ],
   "metadata": {
    "collapsed": false
   }
  },
  {
   "cell_type": "code",
   "execution_count": null,
   "outputs": [],
   "source": [
    "libraries_file = [\n",
    "    \"libraries_target_GO_Biological_Process\",\n",
    "    \"libraries_target_GO_Cellular_Component\",\n",
    "    \"libraries_target_GO_Molecular_Function\",\n",
    "    \"libraries_target_nonGO\",\n",
    "]\n",
    "\n",
    "for library_file in libraries_file:\n",
    "    libraries_target = pd.read_excel(f\"{path_cpg}/GSEA/{library_file}.xlsx\")[\"library\"].values\n",
    "\n",
    "    gsea_cols = [\"Gene_set\", \"Term\", \"Overlap\", \"P-value\", \"Adjusted P-value\", \"Odds Ratio\", \"Combined Score\"]\n",
    "    for genes in [\"origin\"]:\n",
    "\n",
    "        dfs_enrichr = pd.read_pickle(f\"{path_cpg}/GSEA/{genes}/results.pkl\")\n",
    "        dfs_enrichr = dfs_enrichr.loc[(dfs_enrichr[\"Adjusted P-value\"] < 0.05) & (dfs_enrichr[\"Gene_set\"].isin(libraries_target)), gsea_cols]\n",
    "        dfs_enrichr.index = range(len(dfs_enrichr))\n",
    "\n",
    "        if dfs_enrichr.empty == False:\n",
    "            dfs_enrichr[r'$ -\\log_{10}(\\mathrm{p-value})$'] = -np.log10(dfs_enrichr.loc[:, 'Adjusted P-value'].values)\n",
    "            dfs_enrichr.rename(columns={'Gene_set': 'Gene Library'}, inplace=True)\n",
    "            dfs_enrichr.to_excel(f\"{path_cpg}/GSEA/{genes}/terms_{library_file}.xlsx\")\n",
    "            plt.figure(figsize=(10, 0.5 * dfs_enrichr.shape[0]))\n",
    "            sns.set_theme(style='whitegrid', font_scale=2)\n",
    "            bar = sns.barplot(\n",
    "                data=dfs_enrichr,\n",
    "                hue=\"Gene Library\",\n",
    "                y=dfs_enrichr.index,\n",
    "                x=r'$ -\\log_{10}(\\mathrm{p-value})$',\n",
    "                palette=list(px.colors.qualitative.Alphabet) + list(px.colors.qualitative.Dark24) + list(px.colors.qualitative.Light24),\n",
    "                edgecolor='black',\n",
    "                orient=\"h\",\n",
    "                dodge=False\n",
    "            )\n",
    "            bar.set_yticklabels(dfs_enrichr[\"Term\"])\n",
    "            sns.move_legend(bar, \"upper left\", bbox_to_anchor=(1, 1))\n",
    "            plt.savefig(f\"{path_cpg}/GSEA/{genes}/terms_{library_file}.png\", bbox_inches='tight')\n",
    "            plt.savefig(f\"{path_cpg}/GSEA/{genes}/terms_{library_file}.pdf\", bbox_inches='tight')\n",
    "            plt.close()"
   ],
   "metadata": {
    "collapsed": false
   }
  },
  {
   "cell_type": "code",
   "execution_count": null,
   "outputs": [],
   "source": [
    "genes = \"origin\"\n",
    "\n",
    "df_upset_terms = pd.read_excel(f\"{path_cpg}GSEA/enrichr.xlsx\")\n",
    "dict_upset_gene_lists = {\"Parkinson\": genes_selected}\n",
    "for ind, row in df_upset_terms.iterrows():\n",
    "    print(f\"{row['library']} {row['term']}\")\n",
    "    library_dict = gp.parser.get_library(row['library'], organism='Human')\n",
    "    if f\"{row['code']}\" not in dict_upset_gene_lists:\n",
    "        dict_upset_gene_lists[f\"{row['code']}\"] = library_dict[row['term']]\n",
    "    else:\n",
    "        dict_upset_gene_lists[f\"{row['code']}\"] = list(set(dict_upset_gene_lists[f\"{row['code']}\"]).union(set(library_dict[row['term']])))"
   ],
   "metadata": {
    "collapsed": false,
    "pycharm": {
     "is_executing": true
    }
   }
  },
  {
   "cell_type": "code",
   "execution_count": null,
   "outputs": [],
   "source": [
    "upset_genes_all = list(set().union(*list(dict_upset_gene_lists.values())))\n",
    "df_upset = pd.DataFrame(index=upset_genes_all)\n",
    "for k, v in dict_upset_gene_lists.items():\n",
    "    df_upset[k] = df_upset.index.isin(v)\n",
    "df_upset = df_upset.set_index(list(dict_upset_gene_lists.keys()))\n",
    "tmp = plt.figure(figsize=(85, 15))\n",
    "upset_fig = upset.UpSet(df_upset, subset_size='count', show_counts=True, min_degree=1, element_size=None, totals_plot_elements=5).plot(tmp)\n",
    "plt.savefig(f\"{path_cpg}/GSEA/{genes}/upset.png\", bbox_inches='tight')\n",
    "plt.savefig(f\"{path_cpg}/GSEA/{genes}/upset.pdf\", bbox_inches='tight')\n",
    "plt.close()"
   ],
   "metadata": {
    "collapsed": false
   }
  },
  {
   "cell_type": "code",
   "execution_count": null,
   "outputs": [],
   "source": [
    "cpg_411761_list = list(pd.read_excel(f\"{path_cpg}/411761.xlsx\")['features'])"
   ],
   "metadata": {
    "collapsed": false
   }
  },
  {
   "cell_type": "code",
   "execution_count": null,
   "outputs": [],
   "source": [
    "pathlib.Path(f\"{path_cpg}/region_enrichment\").mkdir(parents=True, exist_ok=True)\n",
    "pval_show_type = \"cross\" # \"color\"\n",
    "orders = {\n",
    "    'CHR': [str(x) for x in range(1, 24)],\n",
    "    'RELATION_TO_UCSC_CPG_ISLAND': ['S_Shelf', 'S_Shore', 'Island', 'N_Shore', 'N_Shelf', 'OpenSea'],\n",
    "    'UCSC_REFGENE_GROUP': ['TSS1500', 'TSS200', '5\\'UTR', '1stExon', 'Body', '3\\'UTR']\n",
    "}\n",
    "col_names = {\n",
    "    'CHR': \"CHR\",\n",
    "    'RELATION_TO_UCSC_CPG_ISLAND': \"Relation_to_Island\",\n",
    "    'UCSC_REFGENE_GROUP': \"UCSC_RefGene_Group\"\n",
    "}\n",
    "fig_sizes = {\n",
    "    'CHR': (17, 10),\n",
    "    'RELATION_TO_UCSC_CPG_ISLAND': (5, 10),\n",
    "    'UCSC_REFGENE_GROUP': (5, 10)\n",
    "}\n",
    "colors = {\n",
    "    'CHR': px.colors.qualitative.Dark24,\n",
    "    'RELATION_TO_UCSC_CPG_ISLAND': px.colors.qualitative.Light24[17:23],\n",
    "    'UCSC_REFGENE_GROUP': px.colors.qualitative.Light24[11:17]\n",
    "}\n",
    "df_fisher_target = manifest.loc[cpg_1000_list, :]\n",
    "df_fisher_global = manifest.loc[cpg_411761_list, :]\n",
    "df_fisher_padding = df_fisher_global.loc[~df_fisher_global.index.isin(cpg_1000_list), :]\n",
    "for var in orders:\n",
    "    columns=[\"11\", \"12\", \"21\", \"22\", \"sum\", \"pval\", \"odds_ratio\"]\n",
    "    df_var = pd.DataFrame(index=orders[var], columns=columns, data=np.zeros((len(orders[var]), len(columns))))\n",
    "    df_var.index.name = col_names[var].replace(\"_\", \" \")\n",
    "    for var_val in orders[var]:\n",
    "        contingency_table = pd.DataFrame(index=[\"specific\", \"non-specific\"], columns=[\"in_val\", \"not_in_val\"])\n",
    "        contingency_table.at[\"specific\", \"in_val\"] = df_fisher_target.loc[df_fisher_target[col_names[var]] == var_val, :].shape[0]\n",
    "        contingency_table.at[\"specific\", \"not_in_val\"] = df_fisher_target.loc[df_fisher_target[col_names[var]] != var_val, :].shape[0]\n",
    "        contingency_table.at[\"non-specific\", \"in_val\"] = df_fisher_padding.loc[df_fisher_padding[col_names[var]] == var_val, :].shape[0]\n",
    "        contingency_table.at[\"non-specific\", \"not_in_val\"] = df_fisher_padding.loc[df_fisher_padding[col_names[var]] != var_val, :].shape[0]\n",
    "        df_var.at[var_val, \"11\"] = contingency_table.at[\"specific\", \"in_val\"]\n",
    "        df_var.at[var_val, \"12\"] = contingency_table.at[\"specific\", \"not_in_val\"]\n",
    "        df_var.at[var_val, \"21\"] = contingency_table.at[\"non-specific\", \"in_val\"]\n",
    "        df_var.at[var_val, \"22\"] = contingency_table.at[\"non-specific\", \"not_in_val\"]\n",
    "        df_var.at[var_val, \"sum\"] = contingency_table.values.sum()\n",
    "        odds_ratio, pval = stats.fisher_exact(contingency_table.to_numpy(), alternative='two-sided')\n",
    "        if np.isnan(odds_ratio):\n",
    "            odds_ratio = 1.0\n",
    "        df_var.at[var_val, \"odds_ratio\"], df_var.at[var_val, \"pval\"] = odds_ratio, pval\n",
    "    _, df_var['pval_fdr_bh'], _, _ = multipletests(df_var['pval'].values, 0.05, method='fdr_bh')\n",
    "    df_var[r'$ \\log_{10}(\\mathrm{Odds\\ ratio})$'] = np.log10(df_var.loc[:, 'odds_ratio'].values)\n",
    "    df_var[r'$ -\\log_{10}(\\mathrm{p-value})$'] = -np.log10(df_var.loc[:, 'pval_fdr_bh'].values)\n",
    "    df_var.to_excel(f\"{path_cpg}/region_enrichment/fisher_{var}.xlsx\")\n",
    "\n",
    "    plt.figure(figsize=fig_sizes[var])\n",
    "    plt.xticks(rotation=90)\n",
    "    sns.set_theme(style='whitegrid', font_scale=2)\n",
    "    if pval_show_type == \"color\":\n",
    "        plot = plt.scatter(df_var.index, df_var.loc[:, r'$ \\log_{10}(\\mathrm{Odds\\ ratio})$'].values, c=df_var.loc[:, r'$ -\\log_{10}(\\mathrm{p-value})$'].values, cmap='Reds')\n",
    "        plt.clf()\n",
    "        cbar = plt.colorbar(plot)\n",
    "        plt.xticks(rotation=90)\n",
    "        cbar.set_label(r\"$-\\log_{10}(\\mathrm{p-value})$\", horizontalalignment='center')\n",
    "        ax = sns.barplot(data=df_var, x=df_var.index, y=r'$ \\log_{10}(\\mathrm{Odds\\ ratio})$', hue=r'$ -\\log_{10}(\\mathrm{p-value})$', palette='Reds', dodge=False, edgecolor='black')\n",
    "        ax.legend_.remove()\n",
    "    else:\n",
    "        bar = sns.barplot(data=df_var, x=df_var.index, y=r'$ \\log_{10}(\\mathrm{Odds\\ ratio})$', palette=colors[var], edgecolor='black')\n",
    "        for bar_index, this_bar in enumerate(bar.patches):\n",
    "            if df_var.at[df_var.index[bar_index], \"pval_fdr_bh\"] < 0.05:\n",
    "                this_bar.set_hatch('x')\n",
    "            this_bar.set_edgecolor('skyblue')\n",
    "    plt.savefig(f\"{path_cpg}/region_enrichment/fisher_{var}.png\", bbox_inches='tight')\n",
    "    plt.savefig(f\"{path_cpg}/region_enrichment/fisher_{var}.pdf\", bbox_inches='tight')\n",
    "    plt.close()"
   ],
   "metadata": {
    "collapsed": false
   }
  }
 ],
 "metadata": {
  "kernelspec": {
   "display_name": "Python 3",
   "language": "python",
   "name": "python3"
  },
  "language_info": {
   "codemirror_mode": {
    "name": "ipython",
    "version": 2
   },
   "file_extension": ".py",
   "mimetype": "text/x-python",
   "name": "python",
   "nbconvert_exporter": "python",
   "pygments_lexer": "ipython2",
   "version": "2.7.6"
  }
 },
 "nbformat": 4,
 "nbformat_minor": 0
}
