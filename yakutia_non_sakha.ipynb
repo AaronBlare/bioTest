{
 "cells": [
  {
   "cell_type": "code",
   "execution_count": 3,
   "metadata": {
    "collapsed": true,
    "ExecuteTime": {
     "end_time": "2023-07-17T12:45:40.423531Z",
     "start_time": "2023-07-17T12:45:40.411499500Z"
    }
   },
   "outputs": [],
   "source": [
    "import pandas as pd\n",
    "import pathlib\n",
    "from sections import get_sections\n",
    "import upsetplot\n",
    "import matplotlib.pyplot as plt"
   ]
  },
  {
   "cell_type": "code",
   "execution_count": 11,
   "outputs": [
    {
     "name": "stderr",
     "output_type": "stream",
     "text": [
      "C:\\Users\\alena\\anaconda3\\envs\\biopy\\lib\\site-packages\\upsetplot\\plotting.py:684: FutureWarning: The default dtype for empty Series will be 'object' instead of 'float64' in a future version. Specify a dtype explicitly to silence this warning.\n",
      "  colors = pd.Series([\n"
     ]
    },
    {
     "ename": "IndexError",
     "evalue": "index -1 is out of bounds for axis 0 with size 0",
     "output_type": "error",
     "traceback": [
      "\u001B[1;31m---------------------------------------------------------------------------\u001B[0m",
      "\u001B[1;31mIndexError\u001B[0m                                Traceback (most recent call last)",
      "Cell \u001B[1;32mIn [11], line 51\u001B[0m\n\u001B[0;32m     40\u001B[0m tmp \u001B[38;5;241m=\u001B[39m plt\u001B[38;5;241m.\u001B[39mfigure(figsize\u001B[38;5;241m=\u001B[39m(\u001B[38;5;241m30\u001B[39m, \u001B[38;5;241m10\u001B[39m))\n\u001B[0;32m     41\u001B[0m upset_fig \u001B[38;5;241m=\u001B[39m upsetplot\u001B[38;5;241m.\u001B[39mUpSet(\n\u001B[0;32m     42\u001B[0m     df_upset,\n\u001B[0;32m     43\u001B[0m     sort_categories_by\u001B[38;5;241m=\u001B[39m\u001B[38;5;124m'\u001B[39m\u001B[38;5;124minput\u001B[39m\u001B[38;5;124m'\u001B[39m,\n\u001B[1;32m   (...)\u001B[0m\n\u001B[0;32m     49\u001B[0m     include_empty_subsets\u001B[38;5;241m=\u001B[39m\u001B[38;5;28;01mFalse\u001B[39;00m\n\u001B[0;32m     50\u001B[0m )\n\u001B[1;32m---> 51\u001B[0m \u001B[43mupset_fig\u001B[49m\u001B[38;5;241;43m.\u001B[39;49m\u001B[43mplot\u001B[49m\u001B[43m(\u001B[49m\u001B[43mtmp\u001B[49m\u001B[43m)\u001B[49m\n\u001B[0;32m     52\u001B[0m plt\u001B[38;5;241m.\u001B[39msavefig(\u001B[38;5;124mf\u001B[39m\u001B[38;5;124m\"\u001B[39m\u001B[38;5;132;01m{\u001B[39;00mdata_path_new\u001B[38;5;132;01m}\u001B[39;00m\u001B[38;5;124m/intersection/\u001B[39m\u001B[38;5;132;01m{\u001B[39;00mcurr_lib\u001B[38;5;132;01m}\u001B[39;00m\u001B[38;5;124m/upset_\u001B[39m\u001B[38;5;132;01m{\u001B[39;00mcurr_lib\u001B[38;5;132;01m}\u001B[39;00m\u001B[38;5;124m.png\u001B[39m\u001B[38;5;124m\"\u001B[39m, bbox_inches\u001B[38;5;241m=\u001B[39m\u001B[38;5;124m'\u001B[39m\u001B[38;5;124mtight\u001B[39m\u001B[38;5;124m'\u001B[39m)\n\u001B[0;32m     53\u001B[0m plt\u001B[38;5;241m.\u001B[39msavefig(\u001B[38;5;124mf\u001B[39m\u001B[38;5;124m\"\u001B[39m\u001B[38;5;132;01m{\u001B[39;00mdata_path_new\u001B[38;5;132;01m}\u001B[39;00m\u001B[38;5;124m/intersection/\u001B[39m\u001B[38;5;132;01m{\u001B[39;00mcurr_lib\u001B[38;5;132;01m}\u001B[39;00m\u001B[38;5;124m/upset_\u001B[39m\u001B[38;5;132;01m{\u001B[39;00mcurr_lib\u001B[38;5;132;01m}\u001B[39;00m\u001B[38;5;124m.pdf\u001B[39m\u001B[38;5;124m\"\u001B[39m, bbox_inches\u001B[38;5;241m=\u001B[39m\u001B[38;5;124m'\u001B[39m\u001B[38;5;124mtight\u001B[39m\u001B[38;5;124m'\u001B[39m)\n",
      "File \u001B[1;32m~\\anaconda3\\envs\\biopy\\lib\\site-packages\\upsetplot\\plotting.py:848\u001B[0m, in \u001B[0;36mUpSet.plot\u001B[1;34m(self, fig)\u001B[0m\n\u001B[0;32m    845\u001B[0m \u001B[38;5;28mself\u001B[39m\u001B[38;5;241m.\u001B[39mplot_shading(shading_ax)\n\u001B[0;32m    846\u001B[0m matrix_ax \u001B[38;5;241m=\u001B[39m \u001B[38;5;28mself\u001B[39m\u001B[38;5;241m.\u001B[39m_reorient(fig\u001B[38;5;241m.\u001B[39madd_subplot)(specs[\u001B[38;5;124m'\u001B[39m\u001B[38;5;124mmatrix\u001B[39m\u001B[38;5;124m'\u001B[39m],\n\u001B[0;32m    847\u001B[0m                                             sharey\u001B[38;5;241m=\u001B[39mshading_ax)\n\u001B[1;32m--> 848\u001B[0m \u001B[38;5;28;43mself\u001B[39;49m\u001B[38;5;241;43m.\u001B[39;49m\u001B[43mplot_matrix\u001B[49m\u001B[43m(\u001B[49m\u001B[43mmatrix_ax\u001B[49m\u001B[43m)\u001B[49m\n\u001B[0;32m    849\u001B[0m totals_ax \u001B[38;5;241m=\u001B[39m \u001B[38;5;28mself\u001B[39m\u001B[38;5;241m.\u001B[39m_reorient(fig\u001B[38;5;241m.\u001B[39madd_subplot)(specs[\u001B[38;5;124m'\u001B[39m\u001B[38;5;124mtotals\u001B[39m\u001B[38;5;124m'\u001B[39m],\n\u001B[0;32m    850\u001B[0m                                             sharey\u001B[38;5;241m=\u001B[39mmatrix_ax)\n\u001B[0;32m    851\u001B[0m \u001B[38;5;28mself\u001B[39m\u001B[38;5;241m.\u001B[39mplot_totals(totals_ax)\n",
      "File \u001B[1;32m~\\anaconda3\\envs\\biopy\\lib\\site-packages\\upsetplot\\plotting.py:704\u001B[0m, in \u001B[0;36mUpSet.plot_matrix\u001B[1;34m(self, ax)\u001B[0m\n\u001B[0;32m    702\u001B[0m     ax\u001B[38;5;241m.\u001B[39myaxis\u001B[38;5;241m.\u001B[39mset_ticks_position(\u001B[38;5;124m'\u001B[39m\u001B[38;5;124mtop\u001B[39m\u001B[38;5;124m'\u001B[39m)\n\u001B[0;32m    703\u001B[0m ax\u001B[38;5;241m.\u001B[39mset_frame_on(\u001B[38;5;28;01mFalse\u001B[39;00m)\n\u001B[1;32m--> 704\u001B[0m ax\u001B[38;5;241m.\u001B[39mset_xlim(\u001B[38;5;241m-\u001B[39m\u001B[38;5;241m.5\u001B[39m, \u001B[43mx\u001B[49m\u001B[43m[\u001B[49m\u001B[38;5;241;43m-\u001B[39;49m\u001B[38;5;241;43m1\u001B[39;49m\u001B[43m]\u001B[49m \u001B[38;5;241m+\u001B[39m \u001B[38;5;241m.5\u001B[39m, auto\u001B[38;5;241m=\u001B[39m\u001B[38;5;28;01mFalse\u001B[39;00m)\n\u001B[0;32m    705\u001B[0m ax\u001B[38;5;241m.\u001B[39mgrid(\u001B[38;5;28;01mFalse\u001B[39;00m)\n",
      "\u001B[1;31mIndexError\u001B[0m: index -1 is out of bounds for axis 0 with size 0"
     ]
    },
    {
     "data": {
      "text/plain": "<Figure size 640x480 with 0 Axes>"
     },
     "metadata": {},
     "output_type": "display_data"
    },
    {
     "data": {
      "text/plain": "<Figure size 640x480 with 0 Axes>"
     },
     "metadata": {},
     "output_type": "display_data"
    },
    {
     "data": {
      "text/plain": "<Figure size 3000x1000 with 2 Axes>",
      "image/png": "[encoded data removed]"
     },
     "metadata": {},
     "output_type": "display_data"
    }
   ],
   "source": [
    "data_path_old = 'E:/YandexDisk/pydnameth/datasets/GPL21145/GSEUNN/special/043_yakutia_EWAS/00_all_region/data_from_R/'\n",
    "data_path_new = 'E:/YandexDisk/pydnameth/datasets/GPL21145/GSEUNN/special/043_yakutia_EWAS/analysis_without_non_sakha/00_all_region/data_from_R/'\n",
    "\n",
    "go_old = pd.read_csv(f'{data_path_old}GSEA(methylglm)_GO.csv')\n",
    "go_old.rename(columns={'Size': 'Size_old', 'pvalue': 'pvalue_old', 'padj': 'padj_old'}, inplace=True)\n",
    "go_new = pd.read_csv(f'{data_path_new}GSEA(methylglm)_GO_non.csv')\n",
    "go_new.rename(columns={'Size': 'Size_new', 'pvalue': 'pvalue_new', 'padj': 'padj_new'}, inplace=True)\n",
    "\n",
    "go_old_pval = go_old[go_old['padj_old'] < 0.05]\n",
    "go_new_pval = go_new[go_new['padj_new'] < 0.05]\n",
    "intersection_old_new = pd.merge(go_old_pval, go_new_pval, how='inner', on=['ID', 'Description'], suffixes=('_old', '_new'))\n",
    "\n",
    "go_old_IDs = set(go_old_pval['ID'])\n",
    "go_new_IDs = set(go_new_pval['ID'])\n",
    "\n",
    "go_intersection = go_new_IDs.intersection(go_old_IDs)\n",
    "go_new_not_old = set(go_new_IDs - go_old_IDs)\n",
    "go_old_not_new = set(go_old_IDs - go_new_IDs)"
   ],
   "metadata": {
    "collapsed": false,
    "ExecuteTime": {
     "end_time": "2023-07-17T13:07:55.827007500Z",
     "start_time": "2023-07-17T13:07:54.145061200Z"
    }
   }
  },
  {
   "cell_type": "code",
   "execution_count": null,
   "outputs": [],
   "source": [
    "pathlib.Path(f\"{data_path_new}/intersection/GO/\").mkdir(parents=True, exist_ok=True)\n",
    "sections = get_sections([set(go_old_IDs), set(go_new_IDs)])\n",
    "for sec in sections:\n",
    "    df_sec = pd.merge(go_old[go_old['ID'].isin(list(sections[sec]))], go_new[go_new['ID'].isin(list(sections[sec]))], how='inner', on=['ID', 'Description'], suffixes=('', ''))\n",
    "    df_sec.set_index('ID', inplace=True)\n",
    "    df_sec.to_excel(f\"{data_path_new}/intersection/GO/{sec}.xlsx\")\n",
    "\n",
    "dict_upset_lists = {\n",
    "    \"Old GO terms\": go_old_IDs,\n",
    "    \"New GO terms\": go_new_IDs,\n",
    "}\n",
    "\n",
    "upset_all = list(set().union(*list(dict_upset_lists.values())))\n",
    "df_upset = pd.DataFrame(index=upset_all)\n",
    "for k, v in dict_upset_lists.items():\n",
    "    df_upset[k] = df_upset.index.isin(v)\n",
    "df_upset = df_upset.set_index(list(dict_upset_lists.keys()))\n",
    "tmp = plt.figure(figsize=(30, 10))\n",
    "upset_fig = upsetplot.UpSet(\n",
    "    df_upset,\n",
    "    sort_categories_by='input',\n",
    "    subset_size='count',\n",
    "    show_counts=True,\n",
    "    min_degree=0,\n",
    "    element_size=None,\n",
    "    totals_plot_elements=3,\n",
    "    include_empty_subsets=False\n",
    ")\n",
    "upset_fig.plot(tmp)\n",
    "plt.savefig(f\"{data_path_new}/intersection/GO/upset.png\", bbox_inches='tight')\n",
    "plt.savefig(f\"{data_path_new}/intersection/GO/upset.pdf\", bbox_inches='tight')\n",
    "plt.close()"
   ],
   "metadata": {
    "collapsed": false
   }
  }
 ],
 "metadata": {
  "kernelspec": {
   "display_name": "Python 3",
   "language": "python",
   "name": "python3"
  },
  "language_info": {
   "codemirror_mode": {
    "name": "ipython",
    "version": 2
   },
   "file_extension": ".py",
   "mimetype": "text/x-python",
   "name": "python",
   "nbconvert_exporter": "python",
   "pygments_lexer": "ipython2",
   "version": "2.7.6"
  }
 },
 "nbformat": 4,
 "nbformat_minor": 0
}
