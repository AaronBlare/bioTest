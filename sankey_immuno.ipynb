{
 "cells": [
  {
   "cell_type": "code",
   "execution_count": null,
   "id": "initial_id",
   "metadata": {
    "collapsed": true
   },
   "outputs": [],
   "source": [
    "import pandas as pd\n",
    "from d3blocks import D3Blocks\n",
    "import matplotlib"
   ]
  },
  {
   "cell_type": "code",
   "outputs": [],
   "source": [
    "path = 'E:/YandexDisk/DNAm draft/map_yakutia/'\n",
    "sankey_data_file = 'sankey_data1.xlsx'\n",
    "sankey_df = pd.read_excel(f\"{path}/{sankey_data_file}\")\n",
    "sankey_colors_file = 'sankey_colors.xlsx'\n",
    "colors_df = pd.read_excel(f\"{path}/{sankey_colors_file}\", index_col='feature')\n",
    "sankey_cytokines_file = 'sankey_cytokines.xlsx'\n",
    "cytokines = pd.read_excel(f\"{path}/{sankey_cytokines_file}\")"
   ],
   "metadata": {
    "collapsed": false
   },
   "id": "6fdd9b83a9627e41",
   "execution_count": null
  },
  {
   "cell_type": "code",
   "outputs": [],
   "source": [
    "colors_xkcd = matplotlib.colors.XKCD_COLORS\n",
    "colors_dict = {}\n",
    "for feat in colors_df.index.values:\n",
    "    colors_dict[feat] = colors_xkcd[f\"xkcd:{colors_df.at[feat, 'xkcd']}\"]\n",
    "\n",
    "d3 = D3Blocks()\n",
    "d3_fig = d3.sankey(sankey_df, color=colors_dict, node={'padding': 5}, fontsize=15)\n",
    "d3.set_edge_properties(sankey_df, color='source-target')\n",
    "d3.show(filepath=f\"{path}/sankey.html\")"
   ],
   "metadata": {
    "collapsed": false
   },
   "id": "952394fdbd009a27",
   "execution_count": null
  }
 ],
 "metadata": {
  "kernelspec": {
   "display_name": "Python 3",
   "language": "python",
   "name": "python3"
  },
  "language_info": {
   "codemirror_mode": {
    "name": "ipython",
    "version": 2
   },
   "file_extension": ".py",
   "mimetype": "text/x-python",
   "name": "python",
   "nbconvert_exporter": "python",
   "pygments_lexer": "ipython2",
   "version": "2.7.6"
  }
 },
 "nbformat": 4,
 "nbformat_minor": 5
}
