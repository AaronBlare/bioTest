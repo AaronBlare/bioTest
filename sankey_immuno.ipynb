{
 "cells": [
  {
   "cell_type": "code",
   "execution_count": 5,
   "id": "initial_id",
   "metadata": {
    "collapsed": true,
    "ExecuteTime": {
     "end_time": "2024-06-04T17:53:24.401435Z",
     "start_time": "2024-06-04T17:53:24.375401200Z"
    }
   },
   "outputs": [],
   "source": [
    "import pandas as pd\n",
    "from d3blocks import D3Blocks\n",
    "import matplotlib"
   ]
  },
  {
   "cell_type": "code",
   "outputs": [],
   "source": [
    "path = 'E:/YandexDisk/DNAm draft/yakutia/immuno/map_yakutia/'\n",
    "sankey_data_file = 'sankey_data2.xlsx'\n",
    "sankey_df = pd.read_excel(f\"{path}/{sankey_data_file}\")\n",
    "sankey_colors_file = 'sankey_colors.xlsx'\n",
    "colors_df = pd.read_excel(f\"{path}/{sankey_colors_file}\", index_col='feature')\n",
    "sankey_cytokines_file = 'sankey_cytokines.xlsx'\n",
    "cytokines = pd.read_excel(f\"{path}/{sankey_cytokines_file}\")"
   ],
   "metadata": {
    "collapsed": false,
    "ExecuteTime": {
     "end_time": "2024-06-04T18:08:19.870147400Z",
     "start_time": "2024-06-04T18:08:19.835146500Z"
    }
   },
   "id": "6fdd9b83a9627e41",
   "execution_count": 24
  },
  {
   "cell_type": "code",
   "outputs": [
    {
     "name": "stderr",
     "output_type": "stream",
     "text": [
      "[d3blocks] >INFO> Cleaning edge_properties and config parameters..\n",
      "[d3blocks] >INFO> Cleaning edge_properties and config parameters..\n",
      "[d3blocks] >INFO> Initializing [Sankey]\n",
      "[d3blocks] >INFO> filepath is set to [C:\\Users\\alena\\AppData\\Local\\Temp\\d3blocks\\sankey.html]\n",
      "[d3blocks] >INFO> Convert to DataFrame.\n",
      "[d3blocks] >INFO> Node properties are set.\n",
      "[d3blocks] >INFO> Edge properties are set.\n",
      "C:\\Users\\alena\\anaconda3\\envs\\py39\\lib\\site-packages\\d3blocks\\sankey\\Sankey.py:189: FutureWarning: Series.__getitem__ treating keys as positions is deprecated. In a future version, integer keys will always be treated as labels (consistent with DataFrame behavior). To access a value by position, use `ser.iloc[pos]`\n",
      "  config['fontsize'] = kwargs['node_properties']['fontsize'][0]\n",
      "[d3blocks] >INFO> File already exists and will be overwritten: [C:\\Users\\alena\\AppData\\Local\\Temp\\d3blocks\\sankey.html]\n",
      "[d3blocks] >INFO> Open browser: C:\\Users\\alena\\AppData\\Local\\Temp\\d3blocks\\sankey.html\n",
      "[d3blocks] >INFO> Edge properties are set.\n",
      "[d3blocks] >INFO> Set [filepath]: E:/YandexDisk/DNAm draft/yakutia/immuno/map_yakutia//sankey.html\n",
      "C:\\Users\\alena\\anaconda3\\envs\\py39\\lib\\site-packages\\d3blocks\\sankey\\Sankey.py:189: FutureWarning: Series.__getitem__ treating keys as positions is deprecated. In a future version, integer keys will always be treated as labels (consistent with DataFrame behavior). To access a value by position, use `ser.iloc[pos]`\n",
      "  config['fontsize'] = kwargs['node_properties']['fontsize'][0]\n",
      "[d3blocks] >INFO> File already exists and will be overwritten: [E:/YandexDisk/DNAm draft/yakutia/immuno/map_yakutia//sankey.html]\n"
     ]
    }
   ],
   "source": [
    "colors_xkcd = matplotlib.colors.XKCD_COLORS\n",
    "colors_dict = {}\n",
    "for feat in colors_df.index.values:\n",
    "    colors_dict[feat] = colors_xkcd[f\"xkcd:{colors_df.at[feat, 'xkcd']}\"]\n",
    "\n",
    "d3 = D3Blocks()\n",
    "d3_fig = d3.sankey(sankey_df, color=colors_dict, node={'padding': 5}, fontsize=15)\n",
    "d3.set_edge_properties(sankey_df, color='source-target')\n",
    "d3.show(filepath=f\"{path}/sankey.html\")"
   ],
   "metadata": {
    "collapsed": false,
    "is_executing": true,
    "ExecuteTime": {
     "start_time": "2024-06-04T18:08:21.107258400Z"
    }
   },
   "id": "952394fdbd009a27",
   "execution_count": null
  }
 ],
 "metadata": {
  "kernelspec": {
   "display_name": "Python 3",
   "language": "python",
   "name": "python3"
  },
  "language_info": {
   "codemirror_mode": {
    "name": "ipython",
    "version": 2
   },
   "file_extension": ".py",
   "mimetype": "text/x-python",
   "name": "python",
   "nbconvert_exporter": "python",
   "pygments_lexer": "ipython2",
   "version": "2.7.6"
  }
 },
 "nbformat": 4,
 "nbformat_minor": 5
}
